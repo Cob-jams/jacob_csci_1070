{
 "cells": [
  {
   "cell_type": "markdown",
   "id": "5079c0be-0f5a-461c-8576-c41f86fff2a6",
   "metadata": {},
   "source": [
    "# Constructors"
   ]
  },
  {
   "cell_type": "code",
   "execution_count": 5,
   "id": "94453962-c183-4147-8fc6-daa5950f4e23",
   "metadata": {},
   "outputs": [
    {
     "ename": "AttributeError",
     "evalue": "'a_sample_class' object has no attribute 'var'",
     "output_type": "error",
     "traceback": [
      "\u001b[0;31m---------------------------------------------------------------------------\u001b[0m",
      "\u001b[0;31mAttributeError\u001b[0m                            Traceback (most recent call last)",
      "Cell \u001b[0;32mIn[5], line 14\u001b[0m\n\u001b[1;32m     11\u001b[0m obj \u001b[38;5;241m=\u001b[39m a_sample_class()\n\u001b[1;32m     13\u001b[0m \u001b[38;5;66;03m#call instance method to get value for var\u001b[39;00m\n\u001b[0;32m---> 14\u001b[0m \u001b[43mobj\u001b[49m\u001b[38;5;241;43m.\u001b[39;49m\u001b[43mprint_vars\u001b[49m\u001b[43m(\u001b[49m\u001b[43m)\u001b[49m\n",
      "Cell \u001b[0;32mIn[5], line 8\u001b[0m, in \u001b[0;36ma_sample_class.print_vars\u001b[0;34m(self)\u001b[0m\n\u001b[1;32m      7\u001b[0m \u001b[38;5;28;01mdef\u001b[39;00m \u001b[38;5;21mprint_vars\u001b[39m(\u001b[38;5;28mself\u001b[39m):\n\u001b[0;32m----> 8\u001b[0m     \u001b[38;5;28mprint\u001b[39m(\u001b[38;5;28;43mself\u001b[39;49m\u001b[38;5;241;43m.\u001b[39;49m\u001b[43mvar\u001b[49m)\n",
      "\u001b[0;31mAttributeError\u001b[0m: 'a_sample_class' object has no attribute 'var'"
     ]
    }
   ],
   "source": [
    "class a_sample_class:\n",
    "    #default/basic constructor\n",
    "    def _init_(self):\n",
    "        self.var = 0\n",
    "    \n",
    "    #an instance method for printing\n",
    "    def print_vars(self):\n",
    "        print(self.var)\n",
    "    \n",
    "#create instance of a class\n",
    "obj = a_sample_class()\n",
    "\n",
    "#call instance method to get value for var\n",
    "obj.print_vars()"
   ]
  },
  {
   "cell_type": "code",
   "execution_count": 4,
   "id": "6854f02b-b644-4b02-88aa-ce1ee3a30725",
   "metadata": {},
   "outputs": [
    {
     "ename": "AttributeError",
     "evalue": "'a_sample_class' object has no attribute 'vars'",
     "output_type": "error",
     "traceback": [
      "\u001b[0;31m---------------------------------------------------------------------------\u001b[0m",
      "\u001b[0;31mAttributeError\u001b[0m                            Traceback (most recent call last)",
      "Cell \u001b[0;32mIn[4], line 14\u001b[0m\n\u001b[1;32m     11\u001b[0m obj \u001b[38;5;241m=\u001b[39m a_sample_class()\n\u001b[1;32m     13\u001b[0m \u001b[38;5;66;03m#call instance method to get value for var\u001b[39;00m\n\u001b[0;32m---> 14\u001b[0m \u001b[43mobj\u001b[49m\u001b[38;5;241;43m.\u001b[39;49m\u001b[43mvars\u001b[49m()\n",
      "\u001b[0;31mAttributeError\u001b[0m: 'a_sample_class' object has no attribute 'vars'"
     ]
    }
   ],
   "source": [
    "class a_sample_class:\n",
    "    #default/basic constructor\n",
    "    def _init_(self,one,two):\n",
    "        self.first = one\n",
    "    \n",
    "    #an instance method for printing\n",
    "    def print_vars(self):\n",
    "        print(self.first)\n",
    "    \n",
    "#create instance of a class\n",
    "obj = a_sample_class()\n",
    "\n",
    "#call instance method to get value for var\n",
    "obj.vars()"
   ]
  },
  {
   "cell_type": "code",
   "execution_count": 6,
   "id": "bdb68a0e-144a-47e7-8db0-4354d5969be4",
   "metadata": {
    "scrolled": true
   },
   "outputs": [
    {
     "ename": "TypeError",
     "evalue": "a_sample_class() takes no arguments",
     "output_type": "error",
     "traceback": [
      "\u001b[0;31m---------------------------------------------------------------------------\u001b[0m",
      "\u001b[0;31mTypeError\u001b[0m                                 Traceback (most recent call last)",
      "Cell \u001b[0;32mIn[6], line 9\u001b[0m\n\u001b[1;32m      6\u001b[0m         \u001b[38;5;28mself\u001b[39m\u001b[38;5;241m.\u001b[39msecond \u001b[38;5;241m=\u001b[39m two\n\u001b[1;32m      8\u001b[0m \u001b[38;5;66;03m#object is instance of class\u001b[39;00m\n\u001b[0;32m----> 9\u001b[0m obj \u001b[38;5;241m=\u001b[39m \u001b[43ma_sample_class\u001b[49m\u001b[43m(\u001b[49m\u001b[38;5;241;43m17\u001b[39;49m\u001b[43m,\u001b[49m\u001b[38;5;241;43m42\u001b[39;49m\u001b[43m)\u001b[49m\n\u001b[1;32m     11\u001b[0m \u001b[38;5;66;03m#instance attrivute as property of object\u001b[39;00m\n\u001b[1;32m     12\u001b[0m \u001b[38;5;28mprint\u001b[39m(obj\u001b[38;5;241m.\u001b[39mfirst)\n",
      "\u001b[0;31mTypeError\u001b[0m: a_sample_class() takes no arguments"
     ]
    }
   ],
   "source": [
    "class a_sample_class:\n",
    "    class_attr = 5\n",
    "    def _init_(self,one,two):\n",
    "        #instance attribute\n",
    "        self.first = one\n",
    "        self.second = two\n",
    "\n",
    "#object is instance of class\n",
    "obj = a_sample_class(17,42)\n",
    "\n",
    "#instance attrivute as property of object\n",
    "print(obj.first)\n",
    "\n",
    "#class attribute as property of object\n",
    "print(obj.class_attr)\n",
    "\n",
    "#instance attrivute as property of class\n",
    "print(a_sample_class.first)\n",
    "\n",
    "#class attribute as property of class\n",
    "print(a_sample_class.class_attr)"
   ]
  },
  {
   "cell_type": "markdown",
   "id": "d5ed26a9-ea21-4e29-9a55-2cddd5fcde2d",
   "metadata": {},
   "source": [
    "# Instance Attributes and Class Attributes\n",
    "2 scopes for attributes\n",
    "\n",
    "instance = variable that belongs to a specfici instance or instantation. defined inside the constructo (init). Can access from the scope of the object (local)\n",
    "\n",
    "Class = type of cariable that belongs to the class itself. Defined outside the constructor. Similar to static attributes in Java(not exactly the same). Both a property of a class AND a property of the object."
   ]
  },
  {
   "cell_type": "code",
   "execution_count": 7,
   "id": "e2a103f4-99fa-4866-9f79-4fb33290bb44",
   "metadata": {},
   "outputs": [
    {
     "name": "stdout",
     "output_type": "stream",
     "text": [
      "Help on a_sample_class in module __main__ object:\n",
      "\n",
      "class a_sample_class(builtins.object)\n",
      " |  Methods defined here:\n",
      " |\n",
      " |  print_vars(self)\n",
      " |      #an instance method for printing\n",
      " |\n",
      " |  ----------------------------------------------------------------------\n",
      " |  Data descriptors defined here:\n",
      " |\n",
      " |  __dict__\n",
      " |      dictionary for instance variables\n",
      " |\n",
      " |  __weakref__\n",
      " |      list of weak references to the object\n",
      "\n"
     ]
    }
   ],
   "source": [
    "help(obj)"
   ]
  },
  {
   "cell_type": "code",
   "execution_count": 8,
   "id": "f0bbabac-a15b-41e5-b164-b11a847b3a0b",
   "metadata": {},
   "outputs": [
    {
     "data": {
      "text/plain": [
       "{'__name__': '__main__',\n",
       " '__doc__': 'Automatically created module for IPython interactive environment',\n",
       " '__package__': None,\n",
       " '__loader__': None,\n",
       " '__spec__': None,\n",
       " '__builtin__': <module 'builtins' (built-in)>,\n",
       " '__builtins__': <module 'builtins' (built-in)>,\n",
       " '_ih': ['',\n",
       "  'Python Constructor\\n#default/basic constructor\\ndef _init_(self):\\n    self.var = 0\\n    \\n#an instance method for printing\\ndef print_vars(self):\\n    print(self.var)\\n    \\n#create instance of a class\\nobj = a_sample_class\\n\\n#call instance method to get value for var\\nobj.vars()',\n",
       "  '#default/basic constructor\\ndef _init_(self):\\n    self.var = 0\\n    \\n#an instance method for printing\\ndef print_vars(self):\\n    print(self.var)\\n    \\n#create instance of a class\\nobj = a_sample_class\\n\\n#call instance method to get value for var\\nobj.vars()',\n",
       "  '#default/basic constructor\\ndef _init_(self):\\n    self.var = 0\\n    \\n#an instance method for printing\\ndef print_vars(self):\\n    print(self.var)\\n    \\n#create instance of a class\\nobj = a_sample_class()\\n\\n#call instance method to get value for var\\nobj.vars()',\n",
       "  'class a_sample_class:\\n    #default/basic constructor\\n    def _init_(self):\\n        self.var = 0\\n    \\n    #an instance method for printing\\n    def print_vars(self):\\n        print(self.var)\\n    \\n#create instance of a class\\nobj = a_sample_class()\\n\\n#call instance method to get value for var\\nobj.vars()',\n",
       "  'class a_sample_class:\\n    #default/basic constructor\\n    def _init_(self):\\n        self.var = 0\\n    \\n    #an instance method for printing\\n    def print_vars(self):\\n        print(self.var)\\n    \\n#create instance of a class\\nobj = a_sample_class()\\n\\n#call instance method to get value for var\\nobj.print_vars()',\n",
       "  'class a_sample_class:\\n    class_attr = 5\\n    def _init_(self,one,two):\\n        #instance attribute\\n        self.first = one\\n        self.second = two\\n\\n#object is instance of class\\nobj = a_sample_class(17,42)\\n\\n#instance attrivute as property of object\\nprint(obj.first)\\n\\n#class attribute as property of object\\nprint(obj.class_attr)\\n\\n#instance attrivute as property of class\\nprint(a_sample_class.first)\\n\\n#class attribute as property of class\\nprint(a_sample_class.class_attr)',\n",
       "  'help(obj)',\n",
       "  'globals()'],\n",
       " '_oh': {},\n",
       " '_dh': [PosixPath('/Users/cobimontes')],\n",
       " 'In': ['',\n",
       "  'Python Constructor\\n#default/basic constructor\\ndef _init_(self):\\n    self.var = 0\\n    \\n#an instance method for printing\\ndef print_vars(self):\\n    print(self.var)\\n    \\n#create instance of a class\\nobj = a_sample_class\\n\\n#call instance method to get value for var\\nobj.vars()',\n",
       "  '#default/basic constructor\\ndef _init_(self):\\n    self.var = 0\\n    \\n#an instance method for printing\\ndef print_vars(self):\\n    print(self.var)\\n    \\n#create instance of a class\\nobj = a_sample_class\\n\\n#call instance method to get value for var\\nobj.vars()',\n",
       "  '#default/basic constructor\\ndef _init_(self):\\n    self.var = 0\\n    \\n#an instance method for printing\\ndef print_vars(self):\\n    print(self.var)\\n    \\n#create instance of a class\\nobj = a_sample_class()\\n\\n#call instance method to get value for var\\nobj.vars()',\n",
       "  'class a_sample_class:\\n    #default/basic constructor\\n    def _init_(self):\\n        self.var = 0\\n    \\n    #an instance method for printing\\n    def print_vars(self):\\n        print(self.var)\\n    \\n#create instance of a class\\nobj = a_sample_class()\\n\\n#call instance method to get value for var\\nobj.vars()',\n",
       "  'class a_sample_class:\\n    #default/basic constructor\\n    def _init_(self):\\n        self.var = 0\\n    \\n    #an instance method for printing\\n    def print_vars(self):\\n        print(self.var)\\n    \\n#create instance of a class\\nobj = a_sample_class()\\n\\n#call instance method to get value for var\\nobj.print_vars()',\n",
       "  'class a_sample_class:\\n    class_attr = 5\\n    def _init_(self,one,two):\\n        #instance attribute\\n        self.first = one\\n        self.second = two\\n\\n#object is instance of class\\nobj = a_sample_class(17,42)\\n\\n#instance attrivute as property of object\\nprint(obj.first)\\n\\n#class attribute as property of object\\nprint(obj.class_attr)\\n\\n#instance attrivute as property of class\\nprint(a_sample_class.first)\\n\\n#class attribute as property of class\\nprint(a_sample_class.class_attr)',\n",
       "  'help(obj)',\n",
       "  'globals()'],\n",
       " 'Out': {},\n",
       " 'get_ipython': <bound method InteractiveShell.get_ipython of <ipykernel.zmqshell.ZMQInteractiveShell object at 0x10c024830>>,\n",
       " 'exit': <IPython.core.autocall.ZMQExitAutocall at 0x10c024f20>,\n",
       " 'quit': <IPython.core.autocall.ZMQExitAutocall at 0x10c024f20>,\n",
       " 'open': <function _io.open(file, mode='r', buffering=-1, encoding=None, errors=None, newline=None, closefd=True, opener=None)>,\n",
       " '_': '',\n",
       " '__': '',\n",
       " '___': '',\n",
       " '__session__': '/Users/cobimontes/Untitled1.ipynb',\n",
       " '_i': 'help(obj)',\n",
       " '_ii': 'class a_sample_class:\\n    class_attr = 5\\n    def _init_(self,one,two):\\n        #instance attribute\\n        self.first = one\\n        self.second = two\\n\\n#object is instance of class\\nobj = a_sample_class(17,42)\\n\\n#instance attrivute as property of object\\nprint(obj.first)\\n\\n#class attribute as property of object\\nprint(obj.class_attr)\\n\\n#instance attrivute as property of class\\nprint(a_sample_class.first)\\n\\n#class attribute as property of class\\nprint(a_sample_class.class_attr)',\n",
       " '_iii': 'class a_sample_class:\\n    #default/basic constructor\\n    def _init_(self):\\n        self.var = 0\\n    \\n    #an instance method for printing\\n    def print_vars(self):\\n        print(self.var)\\n    \\n#create instance of a class\\nobj = a_sample_class()\\n\\n#call instance method to get value for var\\nobj.print_vars()',\n",
       " '_i1': 'Python Constructor\\n#default/basic constructor\\ndef _init_(self):\\n    self.var = 0\\n    \\n#an instance method for printing\\ndef print_vars(self):\\n    print(self.var)\\n    \\n#create instance of a class\\nobj = a_sample_class\\n\\n#call instance method to get value for var\\nobj.vars()',\n",
       " '_i2': '#default/basic constructor\\ndef _init_(self):\\n    self.var = 0\\n    \\n#an instance method for printing\\ndef print_vars(self):\\n    print(self.var)\\n    \\n#create instance of a class\\nobj = a_sample_class\\n\\n#call instance method to get value for var\\nobj.vars()',\n",
       " '_init_': <function __main__._init_(self)>,\n",
       " 'print_vars': <function __main__.print_vars(self)>,\n",
       " '_i3': '#default/basic constructor\\ndef _init_(self):\\n    self.var = 0\\n    \\n#an instance method for printing\\ndef print_vars(self):\\n    print(self.var)\\n    \\n#create instance of a class\\nobj = a_sample_class()\\n\\n#call instance method to get value for var\\nobj.vars()',\n",
       " '_i4': 'class a_sample_class:\\n    #default/basic constructor\\n    def _init_(self):\\n        self.var = 0\\n    \\n    #an instance method for printing\\n    def print_vars(self):\\n        print(self.var)\\n    \\n#create instance of a class\\nobj = a_sample_class()\\n\\n#call instance method to get value for var\\nobj.vars()',\n",
       " 'a_sample_class': __main__.a_sample_class,\n",
       " 'obj': <__main__.a_sample_class at 0x10c2e1a00>,\n",
       " '_i5': 'class a_sample_class:\\n    #default/basic constructor\\n    def _init_(self):\\n        self.var = 0\\n    \\n    #an instance method for printing\\n    def print_vars(self):\\n        print(self.var)\\n    \\n#create instance of a class\\nobj = a_sample_class()\\n\\n#call instance method to get value for var\\nobj.print_vars()',\n",
       " '_i6': 'class a_sample_class:\\n    class_attr = 5\\n    def _init_(self,one,two):\\n        #instance attribute\\n        self.first = one\\n        self.second = two\\n\\n#object is instance of class\\nobj = a_sample_class(17,42)\\n\\n#instance attrivute as property of object\\nprint(obj.first)\\n\\n#class attribute as property of object\\nprint(obj.class_attr)\\n\\n#instance attrivute as property of class\\nprint(a_sample_class.first)\\n\\n#class attribute as property of class\\nprint(a_sample_class.class_attr)',\n",
       " '_i7': 'help(obj)',\n",
       " '_i8': 'globals()'}"
      ]
     },
     "execution_count": 8,
     "metadata": {},
     "output_type": "execute_result"
    }
   ],
   "source": [
    "#returns the current module namespace\n",
    "#namespace = mapping between objects and current names\n",
    "globals()"
   ]
  },
  {
   "cell_type": "code",
   "execution_count": 18,
   "id": "2ec7b7a7-1960-4afe-8715-c3a239b2ec9c",
   "metadata": {},
   "outputs": [],
   "source": [
    "#Instance, Class, and Static methods\n",
    "class candy:\n",
    "    #variables that are stored with a single \"_\" are reserved for internal purposes\n",
    "    def __init__(self,\n",
    "                 _brand,\n",
    "                 _is_carmel=False,\n",
    "                 _has_nuts=True,\n",
    "                 _calories=200,\n",
    "                 _type='chocolate',\n",
    "                 _size='regular'):\n",
    "        self.type = type\n",
    "        self.brand=brand\n",
    "        self.is_caramel=caramel\n",
    "        self.has_nuts=nuts\n",
    "\n",
    "    #instance method - can access and modify both the class and object(instance) state\n",
    "    #printing is accessing the state\n",
    "    def display(self):\n",
    "        print(f'My Favorite candy is {self.brand} {self.type}')\n",
    "\n",
    "    #class method - used to modify the state of a class (for all instanses)\n",
    "    @classmethod\n",
    "    def snickers(cls):\n",
    "        return cls('Snickers',_is_carnel =True,_has_nuts=True)\n",
    "\n",
    "    #static method - used for comparison or validation\n",
    "    #commonly used in data for checking if data meets condiions\n",
    "    #if you want to check the value without needinf an instance of it\n",
    "    @staticmethod\n",
    "    def calories(size,n):\n",
    "        if size == 'Large':\n",
    "            calories = 500\n",
    "        elif size == 'regular':\n",
    "            calories = 350\n",
    "        elif size == 'funsized':\n",
    "            calories = 100\n",
    "        else: \n",
    "            calories = 0"
   ]
  },
  {
   "cell_type": "code",
   "execution_count": 13,
   "id": "e8f5ffa0-552c-4831-8920-4a13074172e7",
   "metadata": {},
   "outputs": [
    {
     "ename": "TypeError",
     "evalue": "candy.__init__() missing 3 required positional arguments: '_is_carmel', '_has_nuts', and '_calories'",
     "output_type": "error",
     "traceback": [
      "\u001b[0;31m---------------------------------------------------------------------------\u001b[0m",
      "\u001b[0;31mTypeError\u001b[0m                                 Traceback (most recent call last)",
      "Cell \u001b[0;32mIn[13], line 1\u001b[0m\n\u001b[0;32m----> 1\u001b[0m favorite_candy \u001b[38;5;241m=\u001b[39m \u001b[43mcandy\u001b[49m\u001b[43m(\u001b[49m\u001b[43m_brand\u001b[49m\u001b[38;5;241;43m=\u001b[39;49m\u001b[38;5;124;43m'\u001b[39;49m\u001b[38;5;124;43mReeses\u001b[39;49m\u001b[38;5;124;43m'\u001b[39;49m\u001b[43m)\u001b[49m\n\u001b[1;32m      2\u001b[0m favorite_candy\u001b[38;5;241m.\u001b[39mdisplay()\n",
      "\u001b[0;31mTypeError\u001b[0m: candy.__init__() missing 3 required positional arguments: '_is_carmel', '_has_nuts', and '_calories'"
     ]
    }
   ],
   "source": [
    "favorite_candy = candy(_brand='Reeses')\n",
    "favorite_candy.display()"
   ]
  },
  {
   "cell_type": "code",
   "execution_count": 21,
   "id": "464b1ea3-a2a4-4b45-bb18-a383df028bd9",
   "metadata": {
    "scrolled": true
   },
   "outputs": [],
   "source": [
    "candy.calories('funsized',40)"
   ]
  },
  {
   "cell_type": "code",
   "execution_count": null,
   "id": "ba92a8f4-9923-4c7f-a3b3-24261ae0e6c6",
   "metadata": {},
   "outputs": [],
   "source": []
  }
 ],
 "metadata": {
  "kernelspec": {
   "display_name": "Python 3 (ipykernel)",
   "language": "python",
   "name": "python3"
  },
  "language_info": {
   "codemirror_mode": {
    "name": "ipython",
    "version": 3
   },
   "file_extension": ".py",
   "mimetype": "text/x-python",
   "name": "python",
   "nbconvert_exporter": "python",
   "pygments_lexer": "ipython3",
   "version": "3.12.1"
  }
 },
 "nbformat": 4,
 "nbformat_minor": 5
}
