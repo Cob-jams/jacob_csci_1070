{
 "cells": [
  {
   "cell_type": "code",
   "execution_count": 1,
   "id": "b6eb424b-891e-403f-93aa-150adc02fe6f",
   "metadata": {},
   "outputs": [
    {
     "name": "stdout",
     "output_type": "stream",
     "text": [
      "Hello World\n"
     ]
    }
   ],
   "source": [
    "print(\"Hello World\")"
   ]
  },
  {
   "cell_type": "code",
   "execution_count": 6,
   "id": "f2fd9344-924d-496b-bc64-6eab3408b3ae",
   "metadata": {},
   "outputs": [
    {
     "name": "stdout",
     "output_type": "stream",
     "text": [
      "('a', 'b', 'c')\n"
     ]
    }
   ],
   "source": [
    "# slicing slice(inclusive start, exclusive end, step)\n",
    "letters_tuple = (\"a\",\"b\",\"c\",\"d\",\"e\")\n",
    "x = slice(0,3)\n",
    "print(letters_tuple[x])"
   ]
  },
  {
   "cell_type": "code",
   "execution_count": 14,
   "id": "ac3b783e-d013-4daf-81a0-f8bd994ff6f2",
   "metadata": {},
   "outputs": [
    {
     "name": "stdout",
     "output_type": "stream",
     "text": [
      "('a', 'c', 'e')\n"
     ]
    }
   ],
   "source": [
    "# use slice to return a, c, and e\n",
    "# end value is \"exclusive\" - means 0-5 does not include the 5 itself\n",
    "y = slice(0,5,2)\n",
    "print(letters_tuple[y])"
   ]
  },
  {
   "cell_type": "code",
   "execution_count": 16,
   "id": "ea326df9-ecb5-4689-97e6-b92b568cfb29",
   "metadata": {},
   "outputs": [
    {
     "name": "stdin",
     "output_type": "stream",
     "text": [
      " 90\n"
     ]
    },
    {
     "name": "stdout",
     "output_type": "stream",
     "text": [
      "The value x has a value of: 90\n"
     ]
    }
   ],
   "source": [
    "x = input()\n",
    "print('The value x has a value of:',x)"
   ]
  },
  {
   "cell_type": "code",
   "execution_count": 2,
   "id": "f681ed6a-b5c7-4e09-94b3-1adacb5ac48c",
   "metadata": {},
   "outputs": [
    {
     "name": "stdout",
     "output_type": "stream",
     "text": [
      "September is my birth month!\n"
     ]
    }
   ],
   "source": [
    "months = [\"January\",\"February\",\"March\",\"April\",\"May\",\"June\",\"July\",\"August\",\"September\",\"October\",\"November\",\"December\"]\n",
    "for x in months:\n",
    "    if x == \"September\":\n",
    "        print(x, 'is my birth month!')"
   ]
  },
  {
   "cell_type": "code",
   "execution_count": null,
   "id": "f821dd16-d0a5-44ff-9d75-f29b1c6310fd",
   "metadata": {},
   "outputs": [],
   "source": []
  }
 ],
 "metadata": {
  "kernelspec": {
   "display_name": "Python 3 (ipykernel)",
   "language": "python",
   "name": "python3"
  },
  "language_info": {
   "codemirror_mode": {
    "name": "ipython",
    "version": 3
   },
   "file_extension": ".py",
   "mimetype": "text/x-python",
   "name": "python",
   "nbconvert_exporter": "python",
   "pygments_lexer": "ipython3",
   "version": "3.12.1"
  }
 },
 "nbformat": 4,
 "nbformat_minor": 5
}
