{
 "cells": [
  {
   "cell_type": "code",
   "execution_count": 3,
   "id": "e55e7d1b-27ee-482b-89c0-6234f2791f70",
   "metadata": {},
   "outputs": [
    {
     "name": "stdout",
     "output_type": "stream",
     "text": [
      "b is greater\n"
     ]
    }
   ],
   "source": [
    "# Loops and Functions\n",
    "#loops are flow control\n",
    "# if... elif... else\n",
    "#if a equals b, return \"they are equal\". if a>b, return \"a is greater\". If b>a, return \"b is greater\"\n",
    "a=2\n",
    "b=3\n",
    "if a == b:\n",
    "    print(\"they are equal\")\n",
    "elif a>b:\n",
    "    print(\"a is greater\")\n",
    "else:\n",
    "    print(\"b is greater\")"
   ]
  },
  {
   "cell_type": "code",
   "execution_count": 4,
   "id": "92879914-4f32-4b52-bab5-9f88ac15d9b9",
   "metadata": {},
   "outputs": [
    {
     "name": "stdout",
     "output_type": "stream",
     "text": [
      "7\n",
      "6\n"
     ]
    }
   ],
   "source": [
    "#while loops \n",
    "#repeatedly test an expression and continue to run it until a stopping condition is met\n",
    "x=7\n",
    "while x>5:\n",
    "    print(x)\n",
    "    #decrement our x so it can stop\n",
    "    # x=x-1\n",
    "    x-=1"
   ]
  },
  {
   "cell_type": "code",
   "execution_count": 6,
   "id": "6b900537-f2da-48e7-9bf6-46e850a7a82e",
   "metadata": {},
   "outputs": [
    {
     "name": "stdout",
     "output_type": "stream",
     "text": [
      "3\n",
      "4\n",
      "5\n",
      "6\n",
      "7\n",
      "8\n",
      "9\n"
     ]
    }
   ],
   "source": [
    "#create scenario where x starts at 3 and is incremented by 1 \n",
    "#print the value of x while x<10\n",
    "x=3\n",
    "while x<10:\n",
    "    print(x)\n",
    "    x+=1"
   ]
  },
  {
   "cell_type": "code",
   "execution_count": 7,
   "id": "fb4b18a8-30cb-440f-9ef7-e84f95617482",
   "metadata": {},
   "outputs": [
    {
     "name": "stdout",
     "output_type": "stream",
     "text": [
      "Dexter\n",
      "Pharoah\n",
      "Oreo\n",
      "Midas\n",
      "Enzo\n",
      "Warmonger\n"
     ]
    }
   ],
   "source": [
    "# for loops\n",
    "cats = [\"Dexter\",\"Pharoah\",\"Oreo\",\"Midas\",\"Enzo\",\"Warmonger\"]\n",
    "for cat in cats:\n",
    "    print(cat)"
   ]
  },
  {
   "cell_type": "code",
   "execution_count": 8,
   "id": "b9f7070f-723f-4c40-93d9-391d376aa400",
   "metadata": {},
   "outputs": [
    {
     "name": "stdout",
     "output_type": "stream",
     "text": [
      "2\n",
      "4\n",
      "6\n",
      "8\n"
     ]
    }
   ],
   "source": [
    "# range(start,stop[,step])\n",
    "for r in range(2,10,2):\n",
    "    print(r)"
   ]
  },
  {
   "cell_type": "code",
   "execution_count": 9,
   "id": "63e68dd2-bf6f-4b96-bec5-b70c6f0e9e53",
   "metadata": {},
   "outputs": [],
   "source": [
    "# functions\n",
    "# functions let us encapsulate chunks of code that we might want to use again\n",
    "def comparing(a,b):\n",
    "    if a == b:\n",
    "        print(\"they are equal\")\n",
    "    elif a>b:\n",
    "        print(\"a is greater\")\n",
    "    else:\n",
    "        print(\"b is greater\")"
   ]
  },
  {
   "cell_type": "code",
   "execution_count": 10,
   "id": "cf14599e-4f5a-4ae8-9442-62bcb62fa4d5",
   "metadata": {},
   "outputs": [
    {
     "name": "stdout",
     "output_type": "stream",
     "text": [
      "b is greater\n"
     ]
    }
   ],
   "source": [
    "comparing(5,10)"
   ]
  },
  {
   "cell_type": "code",
   "execution_count": null,
   "id": "62bf6920-7288-4dcb-9be8-c9b492f0d848",
   "metadata": {},
   "outputs": [],
   "source": []
  }
 ],
 "metadata": {
  "kernelspec": {
   "display_name": "Python 3 (ipykernel)",
   "language": "python",
   "name": "python3"
  },
  "language_info": {
   "codemirror_mode": {
    "name": "ipython",
    "version": 3
   },
   "file_extension": ".py",
   "mimetype": "text/x-python",
   "name": "python",
   "nbconvert_exporter": "python",
   "pygments_lexer": "ipython3",
   "version": "3.12.1"
  }
 },
 "nbformat": 4,
 "nbformat_minor": 5
}
